{
 "cells": [
  {
   "cell_type": "code",
   "execution_count": 1,
   "metadata": {
    "execution": {
     "iopub.execute_input": "2024-11-04T11:34:35.729759Z",
     "iopub.status.busy": "2024-11-04T11:34:35.728955Z",
     "iopub.status.idle": "2024-11-04T11:35:15.818454Z",
     "shell.execute_reply": "2024-11-04T11:35:15.816849Z",
     "shell.execute_reply.started": "2024-11-04T11:34:35.729710Z"
    }
   },
   "outputs": [],
   "source": [
    "# Install Keras 3 last. See https://keras.io/getting_started/ for more details.\n",
    "!pip install -q -U keras-nlp\n",
    "!pip install -q -U keras>=3\n",
    "!pip install -q -U kagglehub --upgrade"
   ]
  },
  {
   "cell_type": "code",
   "execution_count": 2,
   "metadata": {
    "execution": {
     "iopub.execute_input": "2024-11-04T11:35:15.821126Z",
     "iopub.status.busy": "2024-11-04T11:35:15.820721Z",
     "iopub.status.idle": "2024-11-04T11:35:30.570592Z",
     "shell.execute_reply": "2024-11-04T11:35:30.569466Z",
     "shell.execute_reply.started": "2024-11-04T11:35:15.821071Z"
    }
   },
   "outputs": [],
   "source": [
    "import keras\n",
    "import keras_nlp\n",
    "import kagglehub\n",
    "from IPython.display import display, Markdown"
   ]
  },
  {
   "cell_type": "code",
   "execution_count": 3,
   "metadata": {
    "execution": {
     "iopub.execute_input": "2024-11-04T11:35:30.572496Z",
     "iopub.status.busy": "2024-11-04T11:35:30.571875Z",
     "iopub.status.idle": "2024-11-04T11:37:29.718697Z",
     "shell.execute_reply": "2024-11-04T11:37:29.716187Z",
     "shell.execute_reply.started": "2024-11-04T11:35:30.572452Z"
    }
   },
   "outputs": [
    {
     "name": "stderr",
     "output_type": "stream",
     "text": [
      "normalizer.cc(51) LOG(INFO) precompiled_charsmap is empty. use identity normalization.\n"
     ]
    }
   ],
   "source": [
    "llm = keras_nlp.models.GemmaCausalLM.from_preset(\"/kaggle/input/gemma2-kaggle-docs/keras/gemma2_2b_en_kaggle_docs/1\")# Model 1\n",
    "#llm = keras_nlp.models.GemmaCausalLM.from_preset(\"/kaggle/input/gemma2-kaggle-docs/keras/gemma2_2b_en_mnlr5_model_docs/1\")# Model 2\n",
    "#llm = keras_nlp.models.GemmaCausalLM.from_preset(\"/kaggle/input/gemma2-kaggle-docs/keras/gemma2_2b_en_mnlr6_model_docs/1\")# Model 3"
   ]
  },
  {
   "cell_type": "code",
   "execution_count": 4,
   "metadata": {
    "execution": {
     "iopub.execute_input": "2024-11-04T11:37:29.724876Z",
     "iopub.status.busy": "2024-11-04T11:37:29.724273Z",
     "iopub.status.idle": "2024-11-04T11:37:29.732021Z",
     "shell.execute_reply": "2024-11-04T11:37:29.730831Z",
     "shell.execute_reply.started": "2024-11-04T11:37:29.724805Z"
    }
   },
   "outputs": [],
   "source": [
    "template = \"Question:\\n{question}\\n\\nAnswer:\\n{answer}\""
   ]
  },
  {
   "cell_type": "code",
   "execution_count": 5,
   "metadata": {
    "execution": {
     "iopub.execute_input": "2024-11-04T11:37:29.734186Z",
     "iopub.status.busy": "2024-11-04T11:37:29.733742Z",
     "iopub.status.idle": "2024-11-04T11:37:29.746850Z",
     "shell.execute_reply": "2024-11-04T11:37:29.745726Z",
     "shell.execute_reply.started": "2024-11-04T11:37:29.734138Z"
    }
   },
   "outputs": [],
   "source": [
    "def colorize_text(text):\n",
    "    for word, color in zip([\"Question\", \"Answer\"], [\"red\", \"green\"]):\n",
    "        text = text.replace(f\"\\n\\n{word}:\", f\"\\n\\n**<font color='{color}'>{word}:</font>**\")\n",
    "    return text"
   ]
  },
  {
   "cell_type": "code",
   "execution_count": 6,
   "metadata": {
    "execution": {
     "iopub.execute_input": "2024-11-04T11:37:29.749527Z",
     "iopub.status.busy": "2024-11-04T11:37:29.748380Z",
     "iopub.status.idle": "2024-11-04T11:37:29.760686Z",
     "shell.execute_reply": "2024-11-04T11:37:29.759625Z",
     "shell.execute_reply.started": "2024-11-04T11:37:29.749474Z"
    }
   },
   "outputs": [],
   "source": [
    "class GemmaQA:\n",
    "    def __init__(self, max_length=512):\n",
    "        self.max_length = max_length\n",
    "        self.prompt = template\n",
    "        self.llm = llm\n",
    "        \n",
    "    def query(self, question):\n",
    "        response = self.llm.generate(\n",
    "            self.prompt.format(\n",
    "                question=question,\n",
    "                answer=\"\"), \n",
    "            max_length=self.max_length)\n",
    "        display(Markdown(colorize_text(response)))"
   ]
  },
  {
   "cell_type": "code",
   "execution_count": 7,
   "metadata": {
    "execution": {
     "iopub.execute_input": "2024-11-04T11:37:29.762465Z",
     "iopub.status.busy": "2024-11-04T11:37:29.762055Z",
     "iopub.status.idle": "2024-11-04T11:37:29.771004Z",
     "shell.execute_reply": "2024-11-04T11:37:29.769808Z",
     "shell.execute_reply.started": "2024-11-04T11:37:29.762426Z"
    }
   },
   "outputs": [],
   "source": [
    "gemma_qa = GemmaQA()"
   ]
  },
  {
   "cell_type": "code",
   "execution_count": 8,
   "metadata": {
    "execution": {
     "iopub.execute_input": "2024-11-04T11:37:29.772965Z",
     "iopub.status.busy": "2024-11-04T11:37:29.772547Z",
     "iopub.status.idle": "2024-11-04T11:37:29.783081Z",
     "shell.execute_reply": "2024-11-04T11:37:29.781800Z",
     "shell.execute_reply.started": "2024-11-04T11:37:29.772923Z"
    }
   },
   "outputs": [],
   "source": [
    "import time"
   ]
  },
  {
   "cell_type": "code",
   "execution_count": 9,
   "metadata": {
    "execution": {
     "iopub.execute_input": "2024-11-04T11:37:29.785190Z",
     "iopub.status.busy": "2024-11-04T11:37:29.784774Z",
     "iopub.status.idle": "2024-11-04T11:38:33.540503Z",
     "shell.execute_reply": "2024-11-04T11:38:33.539320Z",
     "shell.execute_reply.started": "2024-11-04T11:37:29.785146Z"
    }
   },
   "outputs": [
    {
     "name": "stderr",
     "output_type": "stream",
     "text": [
      "WARNING: All log messages before absl::InitializeLog() is called are written to STDERR\n",
      "I0000 00:00:1730720271.255932     101 service.cc:145] XLA service 0x7eaffd202840 initialized for platform Host (this does not guarantee that XLA will be used). Devices:\n",
      "I0000 00:00:1730720271.256151     101 service.cc:153]   StreamExecutor device (0): Host, Default Version\n",
      "I0000 00:00:1730720271.662943     101 device_compiler.h:188] Compiled cluster using XLA!  This line is logged at most once for the lifetime of the process.\n"
     ]
    },
    {
     "data": {
      "text/markdown": [
       "Question:\n",
       "Why does too much carbon dioxide in the atmosphere cause climate change?\n",
       "\n",
       "**<font color='green'>Answer:</font>**\n",
       "Carbon gases contribute to climate change by trapping heat-absorbing infrared light in the atmosphere,\n",
       "exacerbating global warming and resulting in increased environmental change impacts."
      ],
      "text/plain": [
       "<IPython.core.display.Markdown object>"
      ]
     },
     "metadata": {},
     "output_type": "display_data"
    },
    {
     "name": "stdout",
     "output_type": "stream",
     "text": [
      "Elapsed time: 63.746356 seconds\n"
     ]
    }
   ],
   "source": [
    "# Start time\n",
    "start_time = time.time()\n",
    "\n",
    "question = \"Why does too much carbon dioxide in the atmosphere cause climate change?\"\n",
    "gemma_qa.query(question)#1\n",
    "\n",
    "# End time\n",
    "end_time = time.time()\n",
    "# Calculate the elapsed time\n",
    "elapsed_time = end_time - start_time\n",
    "\n",
    "print(f\"Elapsed time: {elapsed_time:.6f} seconds\")"
   ]
  },
  {
   "cell_type": "code",
   "execution_count": 10,
   "metadata": {
    "execution": {
     "iopub.execute_input": "2024-11-04T11:38:33.544494Z",
     "iopub.status.busy": "2024-11-04T11:38:33.544006Z",
     "iopub.status.idle": "2024-11-04T11:39:14.727737Z",
     "shell.execute_reply": "2024-11-04T11:39:14.726521Z",
     "shell.execute_reply.started": "2024-11-04T11:38:33.544454Z"
    }
   },
   "outputs": [
    {
     "data": {
      "text/markdown": [
       "Question:\n",
       "Why does too much carbon dioxide in the atmosphere cause climate change?\n",
       "\n",
       "**<font color='green'>Answer:</font>**\n",
       "Carbon gases contribute to climate change by trapping heat-absorbing infrared light in the atmosphere,\n",
       "exacerbating global warming and resulting in increased environmental change impacts."
      ],
      "text/plain": [
       "<IPython.core.display.Markdown object>"
      ]
     },
     "metadata": {},
     "output_type": "display_data"
    }
   ],
   "source": [
    "question = \"Why does too much carbon dioxide in the atmosphere cause climate change?\"\n",
    "gemma_qa.query(question)#1"
   ]
  },
  {
   "cell_type": "markdown",
   "metadata": {},
   "source": [
    "Too much carbon dioxide in the atmosphere causes climate change because it traps heat and warms up our planet. Carbon dioxide is a greenhouse gas that absorbs and re-emits infrared radiation, preventing it from escaping into space. This process leads to the greenhouse effect, where the Earth's temperature increases. As a result, the excess carbon dioxide contributes to global warming and the overall changes in climate patterns that we observe."
   ]
  },
  {
   "cell_type": "code",
   "execution_count": 11,
   "metadata": {
    "execution": {
     "iopub.execute_input": "2024-11-04T11:39:14.730258Z",
     "iopub.status.busy": "2024-11-04T11:39:14.729201Z",
     "iopub.status.idle": "2024-11-04T11:39:50.369511Z",
     "shell.execute_reply": "2024-11-04T11:39:50.368335Z",
     "shell.execute_reply.started": "2024-11-04T11:39:14.730208Z"
    }
   },
   "outputs": [
    {
     "data": {
      "text/markdown": [
       "Question:\n",
       "Farmer's tractor adds to the carbon footprint of food because?\n",
       "\n",
       "**<font color='green'>Answer:</font>**\n",
       "The carbon mark of tractors is highest when they are new, as they use more fuel to operate and produce carbon releases."
      ],
      "text/plain": [
       "<IPython.core.display.Markdown object>"
      ]
     },
     "metadata": {},
     "output_type": "display_data"
    }
   ],
   "source": [
    "question = \"Farmer's tractor adds to the carbon footprint of food because?\"\n",
    "gemma_qa.query(question)#2"
   ]
  },
  {
   "cell_type": "markdown",
   "metadata": {},
   "source": [
    "The correct answer is that the farmer's tractor adds to the carbon footprint of food because it burns fossil fuel traveling back and forth over the fields. This means that the tractor emits greenhouse gasses, such as carbon dioxide, into the atmosphere, contributing to climate change. As fossil fuels are non-renewable resources, their combustion releases carbon that has been stored for millions of years, exacerbating the carbon footprint of food production."
   ]
  },
  {
   "cell_type": "code",
   "execution_count": 12,
   "metadata": {
    "execution": {
     "iopub.execute_input": "2024-11-04T11:39:50.371319Z",
     "iopub.status.busy": "2024-11-04T11:39:50.370945Z",
     "iopub.status.idle": "2024-11-04T11:40:40.829488Z",
     "shell.execute_reply": "2024-11-04T11:40:40.828198Z",
     "shell.execute_reply.started": "2024-11-04T11:39:50.371281Z"
    }
   },
   "outputs": [
    {
     "data": {
      "text/markdown": [
       "Question:\n",
       "\n",
       "Which of these choices in transportation produces less greenhouse gas than the others order the results \n",
       "1)Walking, \n",
       "2)Riding a bus, \n",
       "3)Riding a car,\n",
       "4)Taking a train\n",
       "\n",
       "\n",
       "**<font color='green'>Answer:</font>**\n",
       "1) **Walking**: Lowest carbon emissions footprint; **Riding a bus**: Lower than driving alone; **Taking a train**: Lowest overall; **Driving**: Higher than average depending on factors like route and time of day."
      ],
      "text/plain": [
       "<IPython.core.display.Markdown object>"
      ]
     },
     "metadata": {},
     "output_type": "display_data"
    }
   ],
   "source": [
    "question = \"\"\"\n",
    "Which of these choices in transportation produces less greenhouse gas than the others order the results \n",
    "1)Walking, \n",
    "2)Riding a bus, \n",
    "3)Riding a car,\n",
    "4)Taking a train\n",
    "\"\"\"\n",
    "gemma_qa.query(question)#3"
   ]
  },
  {
   "cell_type": "markdown",
   "metadata": {},
   "source": [
    "Walking produces less greenhouse gas than the other modes of transportation listed. Walking is a completely carbon-neutral form of transportation as it does not require the use of any fossil fuels or emit any greenhouse gasses. On the other hand, riding a bus, riding a car, and taking a train all rely on the combustion of fossil fuels, such as gasoline or diesel, which release greenhouse gasses into the atmosphere. Therefore, walking is the most environmentally friendly choice in terms of greenhouse gas emissions."
   ]
  },
  {
   "cell_type": "code",
   "execution_count": 13,
   "metadata": {
    "execution": {
     "iopub.execute_input": "2024-11-04T11:40:40.831312Z",
     "iopub.status.busy": "2024-11-04T11:40:40.830902Z",
     "iopub.status.idle": "2024-11-04T11:41:18.338880Z",
     "shell.execute_reply": "2024-11-04T11:41:18.337623Z",
     "shell.execute_reply.started": "2024-11-04T11:40:40.831273Z"
    }
   },
   "outputs": [
    {
     "data": {
      "text/markdown": [
       "Question:\n",
       "\n",
       "Which of these activities reduce greenhouse gas production?, \n",
       "1)Turning off lights when leaving a room, \n",
       "2)Leaving the video game system on when you are done playing, \n",
       "3)Leaving chargers and non -ssential appliances plugged in when not in use,\n",
       "\n",
       "\n",
       "**<font color='green'>Answer:</font>**\n",
       "Activities such as **commuting**, using **public transport**, and keeping electronics unplugged when not in use can significantly reduce carbon emissions footprints."
      ],
      "text/plain": [
       "<IPython.core.display.Markdown object>"
      ]
     },
     "metadata": {},
     "output_type": "display_data"
    }
   ],
   "source": [
    "question = \"\"\"\n",
    "Which of these activities reduce greenhouse gas production?, \n",
    "1)Turning off lights when leaving a room, \n",
    "2)Leaving the video game system on when you are done playing, \n",
    "3)Leaving chargers and non -ssential appliances plugged in when not in use,\n",
    "\"\"\"\n",
    "gemma_qa.query(question)"
   ]
  },
  {
   "cell_type": "markdown",
   "metadata": {},
   "source": [
    "Turning off lights when leaving a room reduces greenhouse gas production because it saves energy. When lights are left on unnecessarily, they consume electricity which is often generated by burning fossil fuels such as coal or natural gas. The burning of these fossil fuels releases greenhouse gasses such as carbon dioxide into the atmosphere, contributing to climate change. By turning off lights when not in use, less electricity is consumed, reducing the demand for fossil fuel-generated power and ultimately reducing greenhouse gas emissions."
   ]
  },
  {
   "cell_type": "code",
   "execution_count": 14,
   "metadata": {
    "execution": {
     "iopub.execute_input": "2024-11-04T11:41:18.340869Z",
     "iopub.status.busy": "2024-11-04T11:41:18.340490Z",
     "iopub.status.idle": "2024-11-04T11:41:57.921159Z",
     "shell.execute_reply": "2024-11-04T11:41:57.919902Z",
     "shell.execute_reply.started": "2024-11-04T11:41:18.340831Z"
    }
   },
   "outputs": [
    {
     "data": {
      "text/markdown": [
       "Question:\n",
       "\n",
       "Which of the following foods takes the least energy to produce? \n",
       "1)Meat, \n",
       "2)Bread, \n",
       "3)Fresh vegetables,\n",
       "4)Cereal\n",
       "\n",
       "\n",
       "**<font color='green'>Answer:</font>**\n",
       "**Meat** and **bread** have the highest carbon footprints, while **fresh vegetables** and **cereal grains** have the lowest."
      ],
      "text/plain": [
       "<IPython.core.display.Markdown object>"
      ]
     },
     "metadata": {},
     "output_type": "display_data"
    }
   ],
   "source": [
    "question = \"\"\"\n",
    "Which of the following foods takes the least energy to produce? \n",
    "1)Meat, \n",
    "2)Bread, \n",
    "3)Fresh vegetables,\n",
    "4)Cereal\n",
    "\"\"\"\n",
    "gemma_qa.query(question)# 11"
   ]
  },
  {
   "cell_type": "code",
   "execution_count": 15,
   "metadata": {
    "execution": {
     "iopub.execute_input": "2024-11-04T11:41:57.923515Z",
     "iopub.status.busy": "2024-11-04T11:41:57.923022Z",
     "iopub.status.idle": "2024-11-04T11:42:38.147314Z",
     "shell.execute_reply": "2024-11-04T11:42:38.146182Z",
     "shell.execute_reply.started": "2024-11-04T11:41:57.923465Z"
    }
   },
   "outputs": [
    {
     "data": {
      "text/markdown": [
       "Question:\n",
       "Which of the following foods takes the least energy to produce? Choose one: \n",
       "1) Meat \n",
       "2) Bread \n",
       "3) Fresh vegetables \n",
       "4) Cereal\n",
       "\n",
       "**<font color='green'>Answer:</font>**\n",
       "The energy mark of **fresh vegetables** is generally lowest among options, making them a good choice for minimizing **carbon emissions footprints** at the grocery store."
      ],
      "text/plain": [
       "<IPython.core.display.Markdown object>"
      ]
     },
     "metadata": {},
     "output_type": "display_data"
    }
   ],
   "source": [
    "question = \"Which of the following foods takes the least energy to produce? Choose one: \\n1) Meat \\n2) Bread \\n3) Fresh vegetables \\n4) Cereal\"\n",
    "gemma_qa.query(question)#4"
   ]
  },
  {
   "cell_type": "markdown",
   "metadata": {},
   "source": [
    "Fresh vegetables take the least energy to produce compared to meat, bread, and cereal. This is because vegetables require less processing, transportation, and resources to grow. Meat production involves raising and feeding animals, which requires significant amounts of water, land, and energy. Bread and cereal production involves multiple steps such as milling, grinding, and baking, which require energy and resources. On the other hand, fresh vegetables can be grown directly from seeds with minimal processing, making them more energy-efficient to produce."
   ]
  },
  {
   "cell_type": "code",
   "execution_count": 16,
   "metadata": {
    "execution": {
     "iopub.execute_input": "2024-11-04T11:42:38.149054Z",
     "iopub.status.busy": "2024-11-04T11:42:38.148689Z",
     "iopub.status.idle": "2024-11-04T11:43:14.414907Z",
     "shell.execute_reply": "2024-11-04T11:43:14.413654Z",
     "shell.execute_reply.started": "2024-11-04T11:42:38.149012Z"
    }
   },
   "outputs": [
    {
     "data": {
      "text/markdown": [
       "Question:\n",
       "\n",
       "The total set of carbon emissions caused by an individual is?\n",
       "1)Carbon cycle, \n",
       "2)Carbon handprint, \n",
       "3)Carbon footprint,\n",
       "4)Carbon summary\n",
       "\n",
       "\n",
       "**<font color='green'>Answer:</font>**\n",
       "The total carbon emissions caused by an individual includes all airborne pollutants from various sources, providing a comprehensive measure of their environmental impact."
      ],
      "text/plain": [
       "<IPython.core.display.Markdown object>"
      ]
     },
     "metadata": {},
     "output_type": "display_data"
    }
   ],
   "source": [
    "question = \"\"\"\n",
    "The total set of carbon emissions caused by an individual is?\n",
    "1)Carbon cycle, \n",
    "2)Carbon handprint, \n",
    "3)Carbon footprint,\n",
    "4)Carbon summary\n",
    "\"\"\"\n",
    "gemma_qa.query(question)"
   ]
  },
  {
   "cell_type": "code",
   "execution_count": 17,
   "metadata": {
    "execution": {
     "iopub.execute_input": "2024-11-04T11:43:14.417085Z",
     "iopub.status.busy": "2024-11-04T11:43:14.416687Z",
     "iopub.status.idle": "2024-11-04T11:43:51.373700Z",
     "shell.execute_reply": "2024-11-04T11:43:51.372548Z",
     "shell.execute_reply.started": "2024-11-04T11:43:14.417044Z"
    }
   },
   "outputs": [
    {
     "data": {
      "text/markdown": [
       "Question:\n",
       "What is the total set of carbon emissions caused by an individual? Choose one: \n",
       "1) Carbon cycle \n",
       "2) Carbon handprint \n",
       "3) Carbon footprint \n",
       "4) Carbon summary\n",
       "\n",
       "**<font color='green'>Answer:</font>**\n",
       "**Carbon footprint** is the total amount of **greenhouse gases** released into the atmosphere, measured in equivalent CO2 releases."
      ],
      "text/plain": [
       "<IPython.core.display.Markdown object>"
      ]
     },
     "metadata": {},
     "output_type": "display_data"
    }
   ],
   "source": [
    "question = \"What is the total set of carbon emissions caused by an individual? Choose one: \\n1) Carbon cycle \\n2) Carbon handprint \\n3) Carbon footprint \\n4) Carbon summary\"\n",
    "gemma_qa.query(question)#5"
   ]
  },
  {
   "cell_type": "markdown",
   "metadata": {},
   "source": [
    "The term \"carbon footprint\" refers to the total set of carbon emissions caused by an individual. It is a measure of the impact that a person's activities have on the environment in terms of carbon dioxide and other greenhouse gasses released into the atmosphere. The carbon footprint includes emissions from various sources such as transportation, energy use, and consumption patterns. It is used to assess the environmental impact of individuals, organizations, or products and is an important concept in understanding and mitigating climate change."
   ]
  },
  {
   "cell_type": "code",
   "execution_count": 18,
   "metadata": {
    "execution": {
     "iopub.execute_input": "2024-11-04T11:43:51.375895Z",
     "iopub.status.busy": "2024-11-04T11:43:51.375388Z",
     "iopub.status.idle": "2024-11-04T11:44:20.649877Z",
     "shell.execute_reply": "2024-11-04T11:44:20.648831Z",
     "shell.execute_reply.started": "2024-11-04T11:43:51.375843Z"
    }
   },
   "outputs": [
    {
     "data": {
      "text/markdown": [
       "Question:\n",
       "\n",
       " The main human activity adds to an individual's carbon footprint? \n",
       "1)Usage of alternative energies (wind, solar, etc.), \n",
       "2)Respiration and growth, \n",
       "3)Photosynthesis by plants,\n",
       "4)Usage of fossil fuels for energy\n",
       "\n",
       "\n",
       "**<font color='green'>Answer:</font>**\n",
       "**Non-activity carbon releases** into the atmosphere due to electricity consumption."
      ],
      "text/plain": [
       "<IPython.core.display.Markdown object>"
      ]
     },
     "metadata": {},
     "output_type": "display_data"
    }
   ],
   "source": [
    "question = \"\"\"\n",
    " The main human activity adds to an individual's carbon footprint? \n",
    "1)Usage of alternative energies (wind, solar, etc.), \n",
    "2)Respiration and growth, \n",
    "3)Photosynthesis by plants,\n",
    "4)Usage of fossil fuels for energy\n",
    "\"\"\"\n",
    "gemma_qa.query(question)"
   ]
  },
  {
   "cell_type": "code",
   "execution_count": 19,
   "metadata": {
    "execution": {
     "iopub.execute_input": "2024-11-04T11:44:20.651818Z",
     "iopub.status.busy": "2024-11-04T11:44:20.651429Z",
     "iopub.status.idle": "2024-11-04T11:44:58.030624Z",
     "shell.execute_reply": "2024-11-04T11:44:58.029420Z",
     "shell.execute_reply.started": "2024-11-04T11:44:20.651779Z"
    }
   },
   "outputs": [
    {
     "data": {
      "text/markdown": [
       "Question:\n",
       "What is the main human activity that adds to an individual's carbon footprint? Choose one: \n",
       "1) Usage of alternative energies (wind, solar, etc.) \n",
       "2) Respiration and growth \n",
       "3) Photosynthesis by plants \n",
       "4) Usage of fossil fuels for energy\n",
       "\n",
       "**<font color='green'>Answer:</font>**\n",
       "The main contributor to an individual's carbon legacy is **usage of energy sources**, specifically the combustion of fossil fuels for electricity."
      ],
      "text/plain": [
       "<IPython.core.display.Markdown object>"
      ]
     },
     "metadata": {},
     "output_type": "display_data"
    }
   ],
   "source": [
    "question = \"What is the main human activity that adds to an individual's carbon footprint? Choose one: \\n1) Usage of alternative energies (wind, solar, etc.) \\n2) Respiration and growth \\n3) Photosynthesis by plants \\n4) Usage of fossil fuels for energy\"\n",
    "gemma_qa.query(question)#6"
   ]
  },
  {
   "cell_type": "markdown",
   "metadata": {},
   "source": [
    "The main human activity that adds to an individual's carbon footprint is the usage of fossil fuels for energy. Fossil fuels, such as coal, oil, and natural gas, release carbon dioxide when burned, contributing to greenhouse gas emissions and climate change. Alternative energies like wind and solar power have a much lower carbon footprint as they do not release greenhouse gasses during operation. Respiration and growth, as well as photosynthesis by plants, are natural processes that do not directly contribute to an individual's carbon footprint."
   ]
  },
  {
   "cell_type": "code",
   "execution_count": 20,
   "metadata": {
    "execution": {
     "iopub.execute_input": "2024-11-04T11:44:58.032512Z",
     "iopub.status.busy": "2024-11-04T11:44:58.032145Z",
     "iopub.status.idle": "2024-11-04T11:45:27.157163Z",
     "shell.execute_reply": "2024-11-04T11:45:27.155954Z",
     "shell.execute_reply.started": "2024-11-04T11:44:58.032474Z"
    }
   },
   "outputs": [
    {
     "data": {
      "text/markdown": [
       "Question:\n",
       "\n",
       " The main human activity adds to an individual's carbon footprint.? \n",
       "1)Sometimes its hard to find shoes that are the right size, \n",
       "2)If we don't decrease greenhouse gas emissions Earth will continue to cool, \n",
       "3)Greenhouse gases are becoming scarce in Earth's atmosphere,\n",
       "4)Increases in greenhouse gases in the atmosphere are contributing to global climate change.\n",
       "\n",
       "\n",
       "**<font color='green'>Answer:</font>**\n",
       "1. **Commuting**: Driving or using public transport generates carbon emissions."
      ],
      "text/plain": [
       "<IPython.core.display.Markdown object>"
      ]
     },
     "metadata": {},
     "output_type": "display_data"
    }
   ],
   "source": [
    "question = \"\"\"\n",
    " The main human activity adds to an individual's carbon footprint.? \n",
    "1)Sometimes its hard to find shoes that are the right size, \n",
    "2)If we don't decrease greenhouse gas emissions Earth will continue to cool, \n",
    "3)Greenhouse gases are becoming scarce in Earth's atmosphere,\n",
    "4)Increases in greenhouse gases in the atmosphere are contributing to global climate change.\n",
    "\"\"\"\n",
    "gemma_qa.query(question)"
   ]
  },
  {
   "cell_type": "markdown",
   "metadata": {},
   "source": [
    "Increases in greenhouse gasses in the atmosphere are contributing to global climate change. This is important because climate change has numerous negative impacts on the environment, ecosystems, and human health. It can lead to more frequent and severe natural disasters, such as hurricanes and droughts, as well as rising sea levels and loss of biodiversity. By being concerned with the size of our carbon footprint, we can take action to reduce greenhouse gas emissions and mitigate the effects of climate change."
   ]
  },
  {
   "cell_type": "code",
   "execution_count": 21,
   "metadata": {
    "execution": {
     "iopub.execute_input": "2024-11-04T11:45:27.158930Z",
     "iopub.status.busy": "2024-11-04T11:45:27.158576Z",
     "iopub.status.idle": "2024-11-04T11:46:02.726612Z",
     "shell.execute_reply": "2024-11-04T11:46:02.725426Z",
     "shell.execute_reply.started": "2024-11-04T11:45:27.158896Z"
    }
   },
   "outputs": [
    {
     "data": {
      "text/markdown": [
       "Question:\n",
       "What is the main human activity that contributes to an individual's carbon footprint? Choose one: \n",
       "1) Driving gasoline-powered vehicles \n",
       "2) Recycling materials \n",
       "3) Using public transportation \n",
       "4) Planting trees\n",
       "\n",
       "**<font color='green'>Answer:</font>**\n",
       "Driving gasoline-powered vehicles, specifically private car use, is the main contributor to an individual's carbon emissions footprint."
      ],
      "text/plain": [
       "<IPython.core.display.Markdown object>"
      ]
     },
     "metadata": {},
     "output_type": "display_data"
    }
   ],
   "source": [
    "question = \"What is the main human activity that contributes to an individual's carbon footprint? Choose one: \\n1) Driving gasoline-powered vehicles \\n2) Recycling materials \\n3) Using public transportation \\n4) Planting trees\"\n",
    "gemma_qa.query(question) # 7"
   ]
  },
  {
   "cell_type": "code",
   "execution_count": 22,
   "metadata": {
    "execution": {
     "iopub.execute_input": "2024-11-04T11:46:02.728586Z",
     "iopub.status.busy": "2024-11-04T11:46:02.728206Z",
     "iopub.status.idle": "2024-11-04T11:46:38.618227Z",
     "shell.execute_reply": "2024-11-04T11:46:38.612846Z",
     "shell.execute_reply.started": "2024-11-04T11:46:02.728549Z"
    }
   },
   "outputs": [
    {
     "data": {
      "text/markdown": [
       "Question:\n",
       "\n",
       " You can help decrease your carbon footprint by? \n",
       "1)Buying and eating locally-produced food., \n",
       "2)Lessening your amount of driving, \n",
       "3)Recycling,\n",
       "4)Decreasing your water and electricity usage,\n",
       "5)All of the above.\n",
       "\n",
       "\n",
       "**<font color='green'>Answer:</font>**\n",
       "1. **Reducing your carbon footprint** can be achieved by choosing locally produced food that has a smaller carbon trace."
      ],
      "text/plain": [
       "<IPython.core.display.Markdown object>"
      ]
     },
     "metadata": {},
     "output_type": "display_data"
    }
   ],
   "source": [
    "question = \"\"\"\n",
    " You can help decrease your carbon footprint by? \n",
    "1)Buying and eating locally-produced food., \n",
    "2)Lessening your amount of driving, \n",
    "3)Recycling,\n",
    "4)Decreasing your water and electricity usage,\n",
    "5)All of the above.\n",
    "\"\"\"\n",
    "gemma_qa.query(question)"
   ]
  },
  {
   "cell_type": "markdown",
   "metadata": {},
   "source": [
    "The correct answer is \"All of the above\" because all the mentioned actions, such as buying locally-produced food, reducing driving, recycling, and decreasing water and electricity usage, can contribute to decreasing one's carbon footprint. These actions help in reducing greenhouse gas emissions, conserving resources, and minimizing environmental impact. By adopting these practices, individuals can make a positive impact on the environment and contribute to sustainability efforts."
   ]
  },
  {
   "cell_type": "code",
   "execution_count": 23,
   "metadata": {
    "execution": {
     "iopub.execute_input": "2024-11-04T11:46:38.626069Z",
     "iopub.status.busy": "2024-11-04T11:46:38.623434Z",
     "iopub.status.idle": "2024-11-04T11:47:30.998466Z",
     "shell.execute_reply": "2024-11-04T11:47:30.997197Z",
     "shell.execute_reply.started": "2024-11-04T11:46:38.625989Z"
    }
   },
   "outputs": [
    {
     "data": {
      "text/markdown": [
       "Question:\n",
       "How can you help decrease your carbon footprint? Choose one: \n",
       "1) Buying and eating locally-produced food \n",
       "2) Lessening your amount of driving \n",
       "3) Recycling \n",
       "4) Decreasing your water and electricity usage \n",
       "5) All of the above\n",
       "\n",
       "**<font color='green'>Answer:</font>**\n",
       "**All of the above** are effective strategies for reducing your carbon impact. **Option 5** includes reducing your **water usage**, which can lead to lower **electricity costs** and reducing **carbon emissions**."
      ],
      "text/plain": [
       "<IPython.core.display.Markdown object>"
      ]
     },
     "metadata": {},
     "output_type": "display_data"
    }
   ],
   "source": [
    "question = \"How can you help decrease your carbon footprint? Choose one: \\n1) Buying and eating locally-produced food \\n2) Lessening your amount of driving \\n3) Recycling \\n4) Decreasing your water and electricity usage \\n5) All of the above\"\n",
    "gemma_qa.query(question)#8"
   ]
  },
  {
   "cell_type": "code",
   "execution_count": 24,
   "metadata": {
    "execution": {
     "iopub.execute_input": "2024-11-04T11:47:31.000519Z",
     "iopub.status.busy": "2024-11-04T11:47:31.000145Z",
     "iopub.status.idle": "2024-11-04T11:48:08.259925Z",
     "shell.execute_reply": "2024-11-04T11:48:08.258798Z",
     "shell.execute_reply.started": "2024-11-04T11:47:31.000482Z"
    }
   },
   "outputs": [
    {
     "data": {
      "text/markdown": [
       "Question:\n",
       "\n",
       " The lunches of all students have a carbon footprint, whether they are brought from home or bought in a school cafeteria and explain why? \n",
       "1)True, \n",
       "2)False.\n",
       "\n",
       "\n",
       "\n",
       "**<font color='green'>Answer:</font>**\n",
       "** luncheons** have a carbon impact, whether they're **home-made** or from a **school cafeteria**."
      ],
      "text/plain": [
       "<IPython.core.display.Markdown object>"
      ]
     },
     "metadata": {},
     "output_type": "display_data"
    }
   ],
   "source": [
    "question = \"\"\"\n",
    " The lunches of all students have a carbon footprint, whether they are brought from home or bought in a school cafeteria and explain why? \n",
    "1)True, \n",
    "2)False.\n",
    "\n",
    "\"\"\"\n",
    "gemma_qa.query(question)#10"
   ]
  },
  {
   "cell_type": "code",
   "execution_count": 25,
   "metadata": {
    "execution": {
     "iopub.execute_input": "2024-11-04T11:48:08.261581Z",
     "iopub.status.busy": "2024-11-04T11:48:08.261222Z",
     "iopub.status.idle": "2024-11-04T11:48:50.960755Z",
     "shell.execute_reply": "2024-11-04T11:48:50.959523Z",
     "shell.execute_reply.started": "2024-11-04T11:48:08.261544Z"
    }
   },
   "outputs": [
    {
     "data": {
      "text/markdown": [
       "Question:\n",
       "Do the lunches of all students have a carbon footprint, whether brought from home or bought in a cafeteria? Choose one: \n",
       "1) True \n",
       "2) False\n",
       "\n",
       "Please explain your answer:\n",
       "\n",
       "**<font color='green'>Answer:</font>**\n",
       "**True**, because the **carbon emissions footprint** of a student's lunch can depend on how they prepare and consume their food, affecting the carbon emissions produced."
      ],
      "text/plain": [
       "<IPython.core.display.Markdown object>"
      ]
     },
     "metadata": {},
     "output_type": "display_data"
    }
   ],
   "source": [
    "question = \"Do the lunches of all students have a carbon footprint, whether brought from home or bought in a cafeteria? Choose one: \\n1) True \\n2) False\\n\\nPlease explain your answer:\"\n",
    "gemma_qa.query(question)#9"
   ]
  },
  {
   "cell_type": "code",
   "execution_count": null,
   "metadata": {},
   "outputs": [],
   "source": []
  }
 ],
 "metadata": {
  "kaggle": {
   "accelerator": "none",
   "dataSources": [
    {
     "isSourceIdPinned": true,
     "modelId": 149017,
     "modelInstanceId": 126043,
     "sourceId": 148534,
     "sourceType": "modelInstanceVersion"
    },
    {
     "isSourceIdPinned": true,
     "modelId": 149017,
     "modelInstanceId": 131858,
     "sourceId": 155185,
     "sourceType": "modelInstanceVersion"
    },
    {
     "isSourceIdPinned": true,
     "modelId": 149017,
     "modelInstanceId": 130544,
     "sourceId": 153680,
     "sourceType": "modelInstanceVersion"
    }
   ],
   "dockerImageVersionId": 30786,
   "isGpuEnabled": false,
   "isInternetEnabled": true,
   "language": "python",
   "sourceType": "notebook"
  },
  "kernelspec": {
   "display_name": "Python 3 (ipykernel)",
   "language": "python",
   "name": "python3"
  },
  "language_info": {
   "codemirror_mode": {
    "name": "ipython",
    "version": 3
   },
   "file_extension": ".py",
   "mimetype": "text/x-python",
   "name": "python",
   "nbconvert_exporter": "python",
   "pygments_lexer": "ipython3",
   "version": "3.12.3"
  }
 },
 "nbformat": 4,
 "nbformat_minor": 4
}
