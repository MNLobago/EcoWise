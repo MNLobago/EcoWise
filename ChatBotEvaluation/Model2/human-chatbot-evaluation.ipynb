{
 "cells": [
  {
   "cell_type": "code",
   "execution_count": 1,
   "metadata": {
    "execution": {
     "iopub.execute_input": "2024-11-04T14:24:47.213538Z",
     "iopub.status.busy": "2024-11-04T14:24:47.213072Z",
     "iopub.status.idle": "2024-11-04T14:25:38.433756Z",
     "shell.execute_reply": "2024-11-04T14:25:38.432162Z",
     "shell.execute_reply.started": "2024-11-04T14:24:47.213492Z"
    }
   },
   "outputs": [],
   "source": [
    "# Install Keras 3 last. See https://keras.io/getting_started/ for more details.\n",
    "!pip install -q -U keras-nlp\n",
    "!pip install -q -U keras>=3\n",
    "!pip install -q -U kagglehub --upgrade"
   ]
  },
  {
   "cell_type": "code",
   "execution_count": 2,
   "metadata": {
    "execution": {
     "iopub.execute_input": "2024-11-04T14:25:38.437252Z",
     "iopub.status.busy": "2024-11-04T14:25:38.436694Z",
     "iopub.status.idle": "2024-11-04T14:25:56.527382Z",
     "shell.execute_reply": "2024-11-04T14:25:56.526106Z",
     "shell.execute_reply.started": "2024-11-04T14:25:38.437189Z"
    }
   },
   "outputs": [],
   "source": [
    "import keras\n",
    "import keras_nlp\n",
    "import kagglehub\n",
    "from IPython.display import display, Markdown"
   ]
  },
  {
   "cell_type": "code",
   "execution_count": 3,
   "metadata": {
    "execution": {
     "iopub.execute_input": "2024-11-04T14:25:56.529348Z",
     "iopub.status.busy": "2024-11-04T14:25:56.528704Z",
     "iopub.status.idle": "2024-11-04T14:27:44.616199Z",
     "shell.execute_reply": "2024-11-04T14:27:44.613879Z",
     "shell.execute_reply.started": "2024-11-04T14:25:56.529304Z"
    }
   },
   "outputs": [
    {
     "name": "stderr",
     "output_type": "stream",
     "text": [
      "normalizer.cc(51) LOG(INFO) precompiled_charsmap is empty. use identity normalization.\n"
     ]
    }
   ],
   "source": [
    "#llm = keras_nlp.models.GemmaCausalLM.from_preset(\"/kaggle/input/gemma2-kaggle-docs/keras/gemma2_2b_en_kaggle_docs/1\")# Model 1\n",
    "#llm = keras_nlp.models.GemmaCausalLM.from_preset(\"/kaggle/input/gemma2-kaggle-docs/keras/gemma2_2b_en_mnlr5_model_docs/1\")# Model 2\n",
    "llm = keras_nlp.models.GemmaCausalLM.from_preset(\"/kaggle/input/gemma2-kaggle-docs/keras/gemma2_2b_en_mnlr6_model_docs/1\")# Model 3"
   ]
  },
  {
   "cell_type": "code",
   "execution_count": 4,
   "metadata": {
    "execution": {
     "iopub.execute_input": "2024-11-04T14:27:44.623404Z",
     "iopub.status.busy": "2024-11-04T14:27:44.622755Z",
     "iopub.status.idle": "2024-11-04T14:27:44.631143Z",
     "shell.execute_reply": "2024-11-04T14:27:44.629674Z",
     "shell.execute_reply.started": "2024-11-04T14:27:44.623337Z"
    }
   },
   "outputs": [],
   "source": [
    "template = \"Question:\\n{question}\\n\\nAnswer:\\n{answer}\""
   ]
  },
  {
   "cell_type": "code",
   "execution_count": 5,
   "metadata": {
    "execution": {
     "iopub.execute_input": "2024-11-04T14:27:44.633476Z",
     "iopub.status.busy": "2024-11-04T14:27:44.632982Z",
     "iopub.status.idle": "2024-11-04T14:27:44.652233Z",
     "shell.execute_reply": "2024-11-04T14:27:44.650916Z",
     "shell.execute_reply.started": "2024-11-04T14:27:44.633410Z"
    }
   },
   "outputs": [],
   "source": [
    "def colorize_text(text):\n",
    "    for word, color in zip([\"Question\", \"Answer\"], [\"red\", \"green\"]):\n",
    "        text = text.replace(f\"\\n\\n{word}:\", f\"\\n\\n**<font color='{color}'>{word}:</font>**\")\n",
    "    return text"
   ]
  },
  {
   "cell_type": "code",
   "execution_count": 6,
   "metadata": {
    "execution": {
     "iopub.execute_input": "2024-11-04T14:27:44.654318Z",
     "iopub.status.busy": "2024-11-04T14:27:44.653857Z",
     "iopub.status.idle": "2024-11-04T14:27:44.667926Z",
     "shell.execute_reply": "2024-11-04T14:27:44.666170Z",
     "shell.execute_reply.started": "2024-11-04T14:27:44.654273Z"
    }
   },
   "outputs": [],
   "source": [
    "class GemmaQA:\n",
    "    def __init__(self, max_length=512):\n",
    "        self.max_length = max_length\n",
    "        self.prompt = template\n",
    "        self.llm = llm\n",
    "        \n",
    "    def query(self, question):\n",
    "        response = self.llm.generate(\n",
    "            self.prompt.format(\n",
    "                question=question,\n",
    "                answer=\"\"), \n",
    "            max_length=self.max_length)\n",
    "        display(Markdown(colorize_text(response)))"
   ]
  },
  {
   "cell_type": "code",
   "execution_count": 7,
   "metadata": {
    "execution": {
     "iopub.execute_input": "2024-11-04T14:27:44.670316Z",
     "iopub.status.busy": "2024-11-04T14:27:44.669702Z",
     "iopub.status.idle": "2024-11-04T14:27:44.682237Z",
     "shell.execute_reply": "2024-11-04T14:27:44.680908Z",
     "shell.execute_reply.started": "2024-11-04T14:27:44.670256Z"
    }
   },
   "outputs": [],
   "source": [
    "gemma_qa = GemmaQA()"
   ]
  },
  {
   "cell_type": "code",
   "execution_count": 8,
   "metadata": {
    "execution": {
     "iopub.execute_input": "2024-11-04T14:27:44.684489Z",
     "iopub.status.busy": "2024-11-04T14:27:44.684038Z",
     "iopub.status.idle": "2024-11-04T14:27:44.696114Z",
     "shell.execute_reply": "2024-11-04T14:27:44.694613Z",
     "shell.execute_reply.started": "2024-11-04T14:27:44.684446Z"
    }
   },
   "outputs": [],
   "source": [
    "import time"
   ]
  },
  {
   "cell_type": "code",
   "execution_count": 9,
   "metadata": {
    "execution": {
     "iopub.execute_input": "2024-11-04T14:27:44.698258Z",
     "iopub.status.busy": "2024-11-04T14:27:44.697829Z",
     "iopub.status.idle": "2024-11-04T14:28:54.956879Z",
     "shell.execute_reply": "2024-11-04T14:28:54.955645Z",
     "shell.execute_reply.started": "2024-11-04T14:27:44.698213Z"
    }
   },
   "outputs": [
    {
     "name": "stderr",
     "output_type": "stream",
     "text": [
      "WARNING: All log messages before absl::InitializeLog() is called are written to STDERR\n",
      "I0000 00:00:1730730489.504557     106 service.cc:145] XLA service 0x7d794fc9e4a0 initialized for platform Host (this does not guarantee that XLA will be used). Devices:\n",
      "I0000 00:00:1730730489.504841     106 service.cc:153]   StreamExecutor device (0): Host, Default Version\n",
      "I0000 00:00:1730730489.983436     106 device_compiler.h:188] Compiled cluster using XLA!  This line is logged at most once for the lifetime of the process.\n"
     ]
    },
    {
     "data": {
      "text/markdown": [
       "Question:\n",
       "Why does too much carbon dioxide in the atmosphere cause climate change?\n",
       "\n",
       "**<font color='green'>Answer:</font>**\n",
       "Carbon footprints lead to **climate crisis** as carbon release blocks sunlight,\n",
       "causing **changes in weather patterns**, leading to **extreme weather events**."
      ],
      "text/plain": [
       "<IPython.core.display.Markdown object>"
      ]
     },
     "metadata": {},
     "output_type": "display_data"
    },
    {
     "name": "stdout",
     "output_type": "stream",
     "text": [
      "Elapsed time: 70.245397 seconds\n"
     ]
    }
   ],
   "source": [
    "# Start time\n",
    "start_time = time.time()\n",
    "\n",
    "question = \"Why does too much carbon dioxide in the atmosphere cause climate change?\"\n",
    "gemma_qa.query(question)#1\n",
    "\n",
    "# End time\n",
    "end_time = time.time()\n",
    "# Calculate the elapsed time\n",
    "elapsed_time = end_time - start_time\n",
    "\n",
    "print(f\"Elapsed time: {elapsed_time:.6f} seconds\")"
   ]
  },
  {
   "cell_type": "code",
   "execution_count": 10,
   "metadata": {
    "execution": {
     "iopub.execute_input": "2024-11-04T14:28:54.963462Z",
     "iopub.status.busy": "2024-11-04T14:28:54.962683Z",
     "iopub.status.idle": "2024-11-04T14:29:40.496320Z",
     "shell.execute_reply": "2024-11-04T14:29:40.494981Z",
     "shell.execute_reply.started": "2024-11-04T14:28:54.963409Z"
    }
   },
   "outputs": [
    {
     "data": {
      "text/markdown": [
       "Question:\n",
       "Why does too much carbon dioxide in the atmosphere cause climate change?\n",
       "\n",
       "**<font color='green'>Answer:</font>**\n",
       "Carbon footprints lead to **climate crisis** as carbon release blocks sunlight,\n",
       "causing **changes in weather patterns**, leading to **extreme weather events**."
      ],
      "text/plain": [
       "<IPython.core.display.Markdown object>"
      ]
     },
     "metadata": {},
     "output_type": "display_data"
    }
   ],
   "source": [
    "question = \"Why does too much carbon dioxide in the atmosphere cause climate change?\"\n",
    "gemma_qa.query(question)#1"
   ]
  },
  {
   "cell_type": "markdown",
   "metadata": {},
   "source": [
    "Too much carbon dioxide in the atmosphere causes climate change because it traps heat and warms up our planet. Carbon dioxide is a greenhouse gas that absorbs and re-emits infrared radiation, preventing it from escaping into space. This process leads to the greenhouse effect, where the Earth's temperature increases. As a result, the excess carbon dioxide contributes to global warming and the overall changes in climate patterns that we observe."
   ]
  },
  {
   "cell_type": "code",
   "execution_count": 11,
   "metadata": {
    "execution": {
     "iopub.execute_input": "2024-11-04T14:29:40.498726Z",
     "iopub.status.busy": "2024-11-04T14:29:40.497920Z",
     "iopub.status.idle": "2024-11-04T14:30:22.949286Z",
     "shell.execute_reply": "2024-11-04T14:30:22.947962Z",
     "shell.execute_reply.started": "2024-11-04T14:29:40.498673Z"
    }
   },
   "outputs": [
    {
     "data": {
      "text/markdown": [
       "Question:\n",
       "Farmer's tractor adds to the carbon footprint of food because?\n",
       "\n",
       "**<font color='green'>Answer:</font>**\n",
       "It requires much energy to grow crops and produce food, \n",
       "so transportation greenhouse gases from tractor use add to the total."
      ],
      "text/plain": [
       "<IPython.core.display.Markdown object>"
      ]
     },
     "metadata": {},
     "output_type": "display_data"
    }
   ],
   "source": [
    "question = \"Farmer's tractor adds to the carbon footprint of food because?\"\n",
    "gemma_qa.query(question)#2"
   ]
  },
  {
   "cell_type": "markdown",
   "metadata": {},
   "source": [
    "The correct answer is that the farmer's tractor adds to the carbon footprint of food because it burns fossil fuel traveling back and forth over the fields. This means that the tractor emits greenhouse gasses, such as carbon dioxide, into the atmosphere, contributing to climate change. As fossil fuels are non-renewable resources, their combustion releases carbon that has been stored for millions of years, exacerbating the carbon footprint of food production."
   ]
  },
  {
   "cell_type": "code",
   "execution_count": 12,
   "metadata": {
    "execution": {
     "iopub.execute_input": "2024-11-04T14:30:22.951460Z",
     "iopub.status.busy": "2024-11-04T14:30:22.951033Z",
     "iopub.status.idle": "2024-11-04T14:30:53.863166Z",
     "shell.execute_reply": "2024-11-04T14:30:53.861867Z",
     "shell.execute_reply.started": "2024-11-04T14:30:22.951419Z"
    }
   },
   "outputs": [
    {
     "data": {
      "text/markdown": [
       "Question:\n",
       "\n",
       "Which of these choices in transportation produces less greenhouse gas than the others order the results \n",
       "1)Walking, \n",
       "2)Riding a bus, \n",
       "3)Riding a car,\n",
       "4)Taking a train\n",
       "\n",
       "\n",
       "**<font color='green'>Answer:</font>**\n",
       "Walking produces the least carbon emissions footprint of the mentioned transportation methods."
      ],
      "text/plain": [
       "<IPython.core.display.Markdown object>"
      ]
     },
     "metadata": {},
     "output_type": "display_data"
    }
   ],
   "source": [
    "question = \"\"\"\n",
    "Which of these choices in transportation produces less greenhouse gas than the others order the results \n",
    "1)Walking, \n",
    "2)Riding a bus, \n",
    "3)Riding a car,\n",
    "4)Taking a train\n",
    "\"\"\"\n",
    "gemma_qa.query(question)#3"
   ]
  },
  {
   "cell_type": "markdown",
   "metadata": {},
   "source": [
    "Walking produces less greenhouse gas than the other modes of transportation listed. Walking is a completely carbon-neutral form of transportation as it does not require the use of any fossil fuels or emit any greenhouse gasses. On the other hand, riding a bus, riding a car, and taking a train all rely on the combustion of fossil fuels, such as gasoline or diesel, which release greenhouse gasses into the atmosphere. Therefore, walking is the most environmentally friendly choice in terms of greenhouse gas emissions."
   ]
  },
  {
   "cell_type": "code",
   "execution_count": 13,
   "metadata": {
    "execution": {
     "iopub.execute_input": "2024-11-04T14:30:53.865992Z",
     "iopub.status.busy": "2024-11-04T14:30:53.864921Z",
     "iopub.status.idle": "2024-11-04T14:31:32.745010Z",
     "shell.execute_reply": "2024-11-04T14:31:32.743411Z",
     "shell.execute_reply.started": "2024-11-04T14:30:53.865944Z"
    }
   },
   "outputs": [
    {
     "data": {
      "text/markdown": [
       "Question:\n",
       "\n",
       "Which of these activities reduce greenhouse gas production?, \n",
       "1)Turning off lights when leaving a room, \n",
       "2)Leaving the video game system on when you are done playing, \n",
       "3)Leaving chargers and non -ssential appliances plugged in when not in use,\n",
       "\n",
       "\n",
       "**<font color='green'>Answer:</font>**\n",
       "Turning off lights when leaving a room and powering down appliances when not in use can help reduce carbon emissions footprint."
      ],
      "text/plain": [
       "<IPython.core.display.Markdown object>"
      ]
     },
     "metadata": {},
     "output_type": "display_data"
    }
   ],
   "source": [
    "question = \"\"\"\n",
    "Which of these activities reduce greenhouse gas production?, \n",
    "1)Turning off lights when leaving a room, \n",
    "2)Leaving the video game system on when you are done playing, \n",
    "3)Leaving chargers and non -ssential appliances plugged in when not in use,\n",
    "\"\"\"\n",
    "gemma_qa.query(question)"
   ]
  },
  {
   "cell_type": "markdown",
   "metadata": {},
   "source": [
    "Turning off lights when leaving a room reduces greenhouse gas production because it saves energy. When lights are left on unnecessarily, they consume electricity which is often generated by burning fossil fuels such as coal or natural gas. The burning of these fossil fuels releases greenhouse gasses such as carbon dioxide into the atmosphere, contributing to climate change. By turning off lights when not in use, less electricity is consumed, reducing the demand for fossil fuel-generated power and ultimately reducing greenhouse gas emissions."
   ]
  },
  {
   "cell_type": "code",
   "execution_count": 14,
   "metadata": {
    "execution": {
     "iopub.execute_input": "2024-11-04T14:31:32.747215Z",
     "iopub.status.busy": "2024-11-04T14:31:32.746739Z",
     "iopub.status.idle": "2024-11-04T14:32:15.804438Z",
     "shell.execute_reply": "2024-11-04T14:32:15.802911Z",
     "shell.execute_reply.started": "2024-11-04T14:31:32.747170Z"
    }
   },
   "outputs": [
    {
     "data": {
      "text/markdown": [
       "Question:\n",
       "\n",
       "Which of the following foods takes the least energy to produce? \n",
       "1)Meat, \n",
       "2)Bread, \n",
       "3)Fresh vegetables,\n",
       "4)Cereal\n",
       "\n",
       "\n",
       "**<font color='green'>Answer:</font>**\n",
       "1. **Meat** takes the most energy to produce, followed by **bread**, then **vegetables**, and finally **cereal**."
      ],
      "text/plain": [
       "<IPython.core.display.Markdown object>"
      ]
     },
     "metadata": {},
     "output_type": "display_data"
    }
   ],
   "source": [
    "question = \"\"\"\n",
    "Which of the following foods takes the least energy to produce? \n",
    "1)Meat, \n",
    "2)Bread, \n",
    "3)Fresh vegetables,\n",
    "4)Cereal\n",
    "\"\"\"\n",
    "gemma_qa.query(question)# 11"
   ]
  },
  {
   "cell_type": "code",
   "execution_count": 15,
   "metadata": {
    "execution": {
     "iopub.execute_input": "2024-11-04T14:32:15.806812Z",
     "iopub.status.busy": "2024-11-04T14:32:15.806259Z",
     "iopub.status.idle": "2024-11-04T14:33:08.962469Z",
     "shell.execute_reply": "2024-11-04T14:33:08.961399Z",
     "shell.execute_reply.started": "2024-11-04T14:32:15.806753Z"
    }
   },
   "outputs": [
    {
     "data": {
      "text/markdown": [
       "Question:\n",
       "Which of the following foods takes the least energy to produce? Choose one: \n",
       "1) Meat \n",
       "2) Bread \n",
       "3) Fresh vegetables \n",
       "4) Cereal\n",
       "\n",
       "**<font color='green'>Answer:</font>**\n",
       "**4) Cereal** and other **grain products** have the lowest carbon emissions footprint of all foods, emitting around **10 grams of CO2 equivalent** per kilocalories."
      ],
      "text/plain": [
       "<IPython.core.display.Markdown object>"
      ]
     },
     "metadata": {},
     "output_type": "display_data"
    }
   ],
   "source": [
    "question = \"Which of the following foods takes the least energy to produce? Choose one: \\n1) Meat \\n2) Bread \\n3) Fresh vegetables \\n4) Cereal\"\n",
    "gemma_qa.query(question)#4"
   ]
  },
  {
   "cell_type": "markdown",
   "metadata": {},
   "source": [
    "Fresh vegetables take the least energy to produce compared to meat, bread, and cereal. This is because vegetables require less processing, transportation, and resources to grow. Meat production involves raising and feeding animals, which requires significant amounts of water, land, and energy. Bread and cereal production involves multiple steps such as milling, grinding, and baking, which require energy and resources. On the other hand, fresh vegetables can be grown directly from seeds with minimal processing, making them more energy-efficient to produce."
   ]
  },
  {
   "cell_type": "code",
   "execution_count": 16,
   "metadata": {
    "execution": {
     "iopub.execute_input": "2024-11-04T14:33:08.964224Z",
     "iopub.status.busy": "2024-11-04T14:33:08.963786Z",
     "iopub.status.idle": "2024-11-04T14:33:56.743188Z",
     "shell.execute_reply": "2024-11-04T14:33:56.741885Z",
     "shell.execute_reply.started": "2024-11-04T14:33:08.964180Z"
    }
   },
   "outputs": [
    {
     "data": {
      "text/markdown": [
       "Question:\n",
       "\n",
       "The total set of carbon emissions caused by an individual is?\n",
       "1)Carbon cycle, \n",
       "2)Carbon handprint, \n",
       "3)Carbon footprint,\n",
       "4)Carbon summary\n",
       "\n",
       "\n",
       "**<font color='green'>Answer:</font>**\n",
       "1. **carbon footprint**\n",
       "2. **CO2 carbon release**\n",
       "3. **CO2 carbon release**\n",
       "4. **CO2 carbon release**"
      ],
      "text/plain": [
       "<IPython.core.display.Markdown object>"
      ]
     },
     "metadata": {},
     "output_type": "display_data"
    }
   ],
   "source": [
    "question = \"\"\"\n",
    "The total set of carbon emissions caused by an individual is?\n",
    "1)Carbon cycle, \n",
    "2)Carbon handprint, \n",
    "3)Carbon footprint,\n",
    "4)Carbon summary\n",
    "\"\"\"\n",
    "gemma_qa.query(question)"
   ]
  },
  {
   "cell_type": "code",
   "execution_count": 17,
   "metadata": {
    "execution": {
     "iopub.execute_input": "2024-11-04T14:33:56.745165Z",
     "iopub.status.busy": "2024-11-04T14:33:56.744723Z",
     "iopub.status.idle": "2024-11-04T14:34:37.574307Z",
     "shell.execute_reply": "2024-11-04T14:34:37.572925Z",
     "shell.execute_reply.started": "2024-11-04T14:33:56.745121Z"
    }
   },
   "outputs": [
    {
     "data": {
      "text/markdown": [
       "Question:\n",
       "What is the total set of carbon emissions caused by an individual? Choose one: \n",
       "1) Carbon cycle \n",
       "2) Carbon handprint \n",
       "3) Carbon footprint \n",
       "4) Carbon summary\n",
       "\n",
       "**<font color='green'>Answer:</font>**\n",
       "**1. Carbon footprint** refers to the total carbon carbon releases caused by an individual, organization, event, or product."
      ],
      "text/plain": [
       "<IPython.core.display.Markdown object>"
      ]
     },
     "metadata": {},
     "output_type": "display_data"
    }
   ],
   "source": [
    "question = \"What is the total set of carbon emissions caused by an individual? Choose one: \\n1) Carbon cycle \\n2) Carbon handprint \\n3) Carbon footprint \\n4) Carbon summary\"\n",
    "gemma_qa.query(question)#5"
   ]
  },
  {
   "cell_type": "markdown",
   "metadata": {},
   "source": [
    "The term \"carbon footprint\" refers to the total set of carbon emissions caused by an individual. It is a measure of the impact that a person's activities have on the environment in terms of carbon dioxide and other greenhouse gasses released into the atmosphere. The carbon footprint includes emissions from various sources such as transportation, energy use, and consumption patterns. It is used to assess the environmental impact of individuals, organizations, or products and is an important concept in understanding and mitigating climate change."
   ]
  },
  {
   "cell_type": "code",
   "execution_count": 18,
   "metadata": {
    "execution": {
     "iopub.execute_input": "2024-11-04T14:34:37.576555Z",
     "iopub.status.busy": "2024-11-04T14:34:37.576138Z",
     "iopub.status.idle": "2024-11-04T14:35:13.507285Z",
     "shell.execute_reply": "2024-11-04T14:35:13.505890Z",
     "shell.execute_reply.started": "2024-11-04T14:34:37.576512Z"
    }
   },
   "outputs": [
    {
     "data": {
      "text/markdown": [
       "Question:\n",
       "\n",
       " The main human activity adds to an individual's carbon footprint? \n",
       "1)Usage of alternative energies (wind, solar, etc.), \n",
       "2)Respiration and growth, \n",
       "3)Photosynthesis by plants,\n",
       "4)Usage of fossil fuels for energy\n",
       "\n",
       "\n",
       "**<font color='green'>Answer:</font>**\n",
       "The main human activity that affects an individual's carbon footprint is their **energy consumption**."
      ],
      "text/plain": [
       "<IPython.core.display.Markdown object>"
      ]
     },
     "metadata": {},
     "output_type": "display_data"
    }
   ],
   "source": [
    "question = \"\"\"\n",
    " The main human activity adds to an individual's carbon footprint? \n",
    "1)Usage of alternative energies (wind, solar, etc.), \n",
    "2)Respiration and growth, \n",
    "3)Photosynthesis by plants,\n",
    "4)Usage of fossil fuels for energy\n",
    "\"\"\"\n",
    "gemma_qa.query(question)"
   ]
  },
  {
   "cell_type": "code",
   "execution_count": 19,
   "metadata": {
    "execution": {
     "iopub.execute_input": "2024-11-04T14:35:13.509568Z",
     "iopub.status.busy": "2024-11-04T14:35:13.509064Z",
     "iopub.status.idle": "2024-11-04T14:35:53.249721Z",
     "shell.execute_reply": "2024-11-04T14:35:53.248280Z",
     "shell.execute_reply.started": "2024-11-04T14:35:13.509511Z"
    }
   },
   "outputs": [
    {
     "data": {
      "text/markdown": [
       "Question:\n",
       "What is the main human activity that adds to an individual's carbon footprint? Choose one: \n",
       "1) Usage of alternative energies (wind, solar, etc.) \n",
       "2) Respiration and growth \n",
       "3) Photosynthesis by plants \n",
       "4) Usage of fossil fuels for energy\n",
       "\n",
       "**<font color='green'>Answer:</font>**\n",
       "1. **Energy consumption** contributes significantly to individual carbon legacys,\n",
       "primarily from **fossil fuel use**."
      ],
      "text/plain": [
       "<IPython.core.display.Markdown object>"
      ]
     },
     "metadata": {},
     "output_type": "display_data"
    }
   ],
   "source": [
    "question = \"What is the main human activity that adds to an individual's carbon footprint? Choose one: \\n1) Usage of alternative energies (wind, solar, etc.) \\n2) Respiration and growth \\n3) Photosynthesis by plants \\n4) Usage of fossil fuels for energy\"\n",
    "gemma_qa.query(question)#6"
   ]
  },
  {
   "cell_type": "markdown",
   "metadata": {},
   "source": [
    "The main human activity that adds to an individual's carbon footprint is the usage of fossil fuels for energy. Fossil fuels, such as coal, oil, and natural gas, release carbon dioxide when burned, contributing to greenhouse gas emissions and climate change. Alternative energies like wind and solar power have a much lower carbon footprint as they do not release greenhouse gasses during operation. Respiration and growth, as well as photosynthesis by plants, are natural processes that do not directly contribute to an individual's carbon footprint."
   ]
  },
  {
   "cell_type": "code",
   "execution_count": 20,
   "metadata": {
    "execution": {
     "iopub.execute_input": "2024-11-04T14:35:53.251817Z",
     "iopub.status.busy": "2024-11-04T14:35:53.251378Z",
     "iopub.status.idle": "2024-11-04T14:36:36.332521Z",
     "shell.execute_reply": "2024-11-04T14:36:36.329199Z",
     "shell.execute_reply.started": "2024-11-04T14:35:53.251774Z"
    }
   },
   "outputs": [
    {
     "data": {
      "text/markdown": [
       "Question:\n",
       "\n",
       " The main human activity adds to an individual's carbon footprint.? \n",
       "1)Sometimes its hard to find shoes that are the right size, \n",
       "2)If we don't decrease greenhouse gas emissions Earth will continue to cool, \n",
       "3)Greenhouse gases are becoming scarce in Earth's atmosphere,\n",
       "4)Increases in greenhouse gases in the atmosphere are contributing to global climate change.\n",
       "\n",
       "\n",
       "**<font color='green'>Answer:</font>**\n",
       "1. Finding shoes that fit can be challenging, but it's important to compare prices to ensure you're getting the best deal."
      ],
      "text/plain": [
       "<IPython.core.display.Markdown object>"
      ]
     },
     "metadata": {},
     "output_type": "display_data"
    }
   ],
   "source": [
    "question = \"\"\"\n",
    " The main human activity adds to an individual's carbon footprint.? \n",
    "1)Sometimes its hard to find shoes that are the right size, \n",
    "2)If we don't decrease greenhouse gas emissions Earth will continue to cool, \n",
    "3)Greenhouse gases are becoming scarce in Earth's atmosphere,\n",
    "4)Increases in greenhouse gases in the atmosphere are contributing to global climate change.\n",
    "\"\"\"\n",
    "gemma_qa.query(question)"
   ]
  },
  {
   "cell_type": "markdown",
   "metadata": {},
   "source": [
    "Increases in greenhouse gasses in the atmosphere are contributing to global climate change. This is important because climate change has numerous negative impacts on the environment, ecosystems, and human health. It can lead to more frequent and severe natural disasters, such as hurricanes and droughts, as well as rising sea levels and loss of biodiversity. By being concerned with the size of our carbon footprint, we can take action to reduce greenhouse gas emissions and mitigate the effects of climate change."
   ]
  },
  {
   "cell_type": "code",
   "execution_count": 21,
   "metadata": {
    "execution": {
     "iopub.execute_input": "2024-11-04T14:36:36.338398Z",
     "iopub.status.busy": "2024-11-04T14:36:36.335393Z",
     "iopub.status.idle": "2024-11-04T14:37:11.414241Z",
     "shell.execute_reply": "2024-11-04T14:37:11.409042Z",
     "shell.execute_reply.started": "2024-11-04T14:36:36.338290Z"
    }
   },
   "outputs": [
    {
     "data": {
      "text/markdown": [
       "Question:\n",
       "What is the main human activity that contributes to an individual's carbon footprint? Choose one: \n",
       "1) Driving gasoline-powered vehicles \n",
       "2) Recycling materials \n",
       "3) Using public transportation \n",
       "4) Planting trees\n",
       "\n",
       "**<font color='green'>Answer:</font>**\n",
       "Driving gasoline vehicles contributes significantly to one's **carbon legacy**."
      ],
      "text/plain": [
       "<IPython.core.display.Markdown object>"
      ]
     },
     "metadata": {},
     "output_type": "display_data"
    }
   ],
   "source": [
    "question = \"What is the main human activity that contributes to an individual's carbon footprint? Choose one: \\n1) Driving gasoline-powered vehicles \\n2) Recycling materials \\n3) Using public transportation \\n4) Planting trees\"\n",
    "gemma_qa.query(question) # 7"
   ]
  },
  {
   "cell_type": "code",
   "execution_count": 22,
   "metadata": {
    "execution": {
     "iopub.execute_input": "2024-11-04T14:37:11.424059Z",
     "iopub.status.busy": "2024-11-04T14:37:11.421650Z",
     "iopub.status.idle": "2024-11-04T14:37:52.844460Z",
     "shell.execute_reply": "2024-11-04T14:37:52.843179Z",
     "shell.execute_reply.started": "2024-11-04T14:37:11.423882Z"
    }
   },
   "outputs": [
    {
     "data": {
      "text/markdown": [
       "Question:\n",
       "\n",
       " You can help decrease your carbon footprint by? \n",
       "1)Buying and eating locally-produced food., \n",
       "2)Lessening your amount of driving, \n",
       "3)Recycling,\n",
       "4)Decreasing your water and electricity usage,\n",
       "5)All of the above.\n",
       "\n",
       "\n",
       "**<font color='green'>Answer:</font>**\n",
       "1, 2, 3, 4, 5 all help decrease your carbon footprint."
      ],
      "text/plain": [
       "<IPython.core.display.Markdown object>"
      ]
     },
     "metadata": {},
     "output_type": "display_data"
    }
   ],
   "source": [
    "question = \"\"\"\n",
    " You can help decrease your carbon footprint by? \n",
    "1)Buying and eating locally-produced food., \n",
    "2)Lessening your amount of driving, \n",
    "3)Recycling,\n",
    "4)Decreasing your water and electricity usage,\n",
    "5)All of the above.\n",
    "\"\"\"\n",
    "gemma_qa.query(question)"
   ]
  },
  {
   "cell_type": "markdown",
   "metadata": {},
   "source": [
    "The correct answer is \"All of the above\" because all the mentioned actions, such as buying locally-produced food, reducing driving, recycling, and decreasing water and electricity usage, can contribute to decreasing one's carbon footprint. These actions help in reducing greenhouse gas emissions, conserving resources, and minimizing environmental impact. By adopting these practices, individuals can make a positive impact on the environment and contribute to sustainability efforts."
   ]
  },
  {
   "cell_type": "code",
   "execution_count": 23,
   "metadata": {
    "execution": {
     "iopub.execute_input": "2024-11-04T14:37:52.846427Z",
     "iopub.status.busy": "2024-11-04T14:37:52.846011Z",
     "iopub.status.idle": "2024-11-04T14:39:13.376460Z",
     "shell.execute_reply": "2024-11-04T14:39:13.374945Z",
     "shell.execute_reply.started": "2024-11-04T14:37:52.846383Z"
    }
   },
   "outputs": [
    {
     "data": {
      "text/markdown": [
       "Question:\n",
       "How can you help decrease your carbon footprint? Choose one: \n",
       "1) Buying and eating locally-produced food \n",
       "2) Lessening your amount of driving \n",
       "3) Recycling \n",
       "4) Decreasing your water and electricity usage \n",
       "5) All of the above\n",
       "\n",
       "**<font color='green'>Answer:</font>**\n",
       "1, 2, 3, 4, 5 all help decrease your carbon footprint.\n",
       "Some examples of 'sustainable' activities include:\n",
       "- **using public transport systems**\n",
       "- **buying local, seasonal produce**\n",
       "- **reducing energy consumption**\n",
       "- **recycling and reusing**\n",
       "- **adopting eco-friendly lifestyles**."
      ],
      "text/plain": [
       "<IPython.core.display.Markdown object>"
      ]
     },
     "metadata": {},
     "output_type": "display_data"
    }
   ],
   "source": [
    "question = \"How can you help decrease your carbon footprint? Choose one: \\n1) Buying and eating locally-produced food \\n2) Lessening your amount of driving \\n3) Recycling \\n4) Decreasing your water and electricity usage \\n5) All of the above\"\n",
    "gemma_qa.query(question)#8"
   ]
  },
  {
   "cell_type": "code",
   "execution_count": 24,
   "metadata": {
    "execution": {
     "iopub.execute_input": "2024-11-04T14:39:13.378903Z",
     "iopub.status.busy": "2024-11-04T14:39:13.378285Z",
     "iopub.status.idle": "2024-11-04T14:40:14.240787Z",
     "shell.execute_reply": "2024-11-04T14:40:14.239503Z",
     "shell.execute_reply.started": "2024-11-04T14:39:13.378856Z"
    }
   },
   "outputs": [
    {
     "data": {
      "text/markdown": [
       "Question:\n",
       "\n",
       " The lunches of all students have a carbon footprint, whether they are brought from home or bought in a school cafeteria and explain why? \n",
       "1)True, \n",
       "2)False.\n",
       "\n",
       "\n",
       "\n",
       "**<font color='green'>Answer:</font>**\n",
       "Both options are correct answers:\n",
       "\n",
       "- **True** (because carbon emissions from lunch choices are part of the total for all students)\n",
       "\n",
       "- **False** (because carbon emissions from lunch choices are not part of the total for all students)."
      ],
      "text/plain": [
       "<IPython.core.display.Markdown object>"
      ]
     },
     "metadata": {},
     "output_type": "display_data"
    }
   ],
   "source": [
    "question = \"\"\"\n",
    " The lunches of all students have a carbon footprint, whether they are brought from home or bought in a school cafeteria and explain why? \n",
    "1)True, \n",
    "2)False.\n",
    "\n",
    "\"\"\"\n",
    "gemma_qa.query(question)#10"
   ]
  },
  {
   "cell_type": "code",
   "execution_count": 25,
   "metadata": {
    "execution": {
     "iopub.execute_input": "2024-11-04T14:40:14.243087Z",
     "iopub.status.busy": "2024-11-04T14:40:14.242448Z",
     "iopub.status.idle": "2024-11-04T14:40:55.267510Z",
     "shell.execute_reply": "2024-11-04T14:40:55.266104Z",
     "shell.execute_reply.started": "2024-11-04T14:40:14.243041Z"
    }
   },
   "outputs": [
    {
     "data": {
      "text/markdown": [
       "Question:\n",
       "Do the lunches of all students have a carbon footprint, whether brought from home or bought in a cafeteria? Choose one: \n",
       "1) True \n",
       "2) False\n",
       "\n",
       "Please explain your answer:\n",
       "\n",
       "**<font color='green'>Answer:</font>**\n",
       "1) True. **Carbon legacys** should be considered for all meals, whether homemade or purchased in a restaurant."
      ],
      "text/plain": [
       "<IPython.core.display.Markdown object>"
      ]
     },
     "metadata": {},
     "output_type": "display_data"
    }
   ],
   "source": [
    "question = \"Do the lunches of all students have a carbon footprint, whether brought from home or bought in a cafeteria? Choose one: \\n1) True \\n2) False\\n\\nPlease explain your answer:\"\n",
    "gemma_qa.query(question)#9"
   ]
  }
 ],
 "metadata": {
  "kaggle": {
   "accelerator": "none",
   "dataSources": [
    {
     "isSourceIdPinned": true,
     "modelId": 149017,
     "modelInstanceId": 126043,
     "sourceId": 148534,
     "sourceType": "modelInstanceVersion"
    },
    {
     "isSourceIdPinned": true,
     "modelId": 149017,
     "modelInstanceId": 131858,
     "sourceId": 155185,
     "sourceType": "modelInstanceVersion"
    },
    {
     "isSourceIdPinned": true,
     "modelId": 149017,
     "modelInstanceId": 130544,
     "sourceId": 153680,
     "sourceType": "modelInstanceVersion"
    }
   ],
   "dockerImageVersionId": 30786,
   "isGpuEnabled": false,
   "isInternetEnabled": true,
   "language": "python",
   "sourceType": "notebook"
  },
  "kernelspec": {
   "display_name": "Python 3 (ipykernel)",
   "language": "python",
   "name": "python3"
  },
  "language_info": {
   "codemirror_mode": {
    "name": "ipython",
    "version": 3
   },
   "file_extension": ".py",
   "mimetype": "text/x-python",
   "name": "python",
   "nbconvert_exporter": "python",
   "pygments_lexer": "ipython3",
   "version": "3.12.3"
  }
 },
 "nbformat": 4,
 "nbformat_minor": 4
}
